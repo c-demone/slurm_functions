{
 "cells": [
  {
   "cell_type": "markdown",
   "source": [
    "# Code Sample\n",
    "Shown here is a Jupyter notebook sample of the example provided in this repository. This is meant to provide a demonstration of the expected behavior/output"
   ],
   "metadata": {}
  },
  {
   "cell_type": "code",
   "execution_count": null,
   "source": [
    "# miscellaneous imports and configs for running examples in docs\n",
    "import dask.array as da\n",
    "from rich import inspect\n",
    "import pathlib\n",
    "import sys\n",
    "from jupyterthemes import get_themes\n",
    "import jupyterthemes as jt\n",
    "from jupyterthemes.stylefx import set_nb_theme\n",
    "set_nb_theme('chesterish')"
   ],
   "outputs": [],
   "metadata": {}
  },
  {
   "cell_type": "markdown",
   "source": [
    "### How Submit a Function to a SLURM Cluster Without Using a Decorator"
   ],
   "metadata": {}
  },
  {
   "cell_type": "code",
   "execution_count": null,
   "source": [
    "sys.path.append('../../')\n",
    "from pyslurm_decorators import SLURMClusterCallback\n",
    "from pyslurm_decorators.schemas.slurm import Options\n",
    "\n",
    "# define the cluster options\n",
    "options = Options(cores=2,\n",
    "    n_workers=2,\n",
    "    processes=1, \n",
    "    memory=\"5GB\",\n",
    "    shebang='#!/usr/bin/env bash',\n",
    "    queue=\"normal\",\n",
    "    walltime=\"00:30:00\",\n",
    "    local_directory='/tmp',\n",
    "    death_timeout=\"15s\",\n",
    "    log_directory=f\"{str(pathlib.Path.home())}/dask-test\",\n",
    "    project=\"boc\",\n",
    "    show_progress=True)\n",
    "\n",
    "# define a function you want submitted to the cluster\n",
    "def calc_pi_mc(size_in_bytes, chunksize_in_bytes=200e6):\n",
    "    \"\"\"Calculate PI using a Monte Carlo estimate.\"\"\"\n",
    "    \n",
    "    size = int(size_in_bytes / 8)\n",
    "    chunksize = int(chunksize_in_bytes / 8)\n",
    "    \n",
    "    xy = da.random.uniform(0, 1,\n",
    "                           size=(size / 2, 2),\n",
    "                           chunks=(chunksize / 2, 2))\n",
    "    \n",
    "    in_circle = ((xy ** 2).sum(axis=-1) < 1)\n",
    "    pi = 4 * in_circle.mean()\n",
    "\n",
    "    return pi\n",
    "\n",
    "# instantiate the cluster object\n",
    "cluster = SLURMClusterCallback(callback=calc_pi_mc, options=options)\n",
    "\n",
    "# take a look at the object: this is what is returned when calling a @slurm decorated function\n",
    "inspect(cluster, methods='all')\n",
    "\n",
    "# submit the function the cluster and return the result\n",
    "result = cluster.submit(size_in_bytes=1e9)\n",
    "print(\"My Pi Estimate is: \", result)"
   ],
   "outputs": [],
   "metadata": {}
  }
 ],
 "metadata": {
  "orig_nbformat": 4,
  "language_info": {
   "mimetype": "text/x-python",
   "nbconvert_exporter": "python",
   "name": "python",
   "pygments_lexer": "ipython3",
   "version": "3.8.8",
   "file_extension": ".py",
   "codemirror_mode": {
    "version": 3,
    "name": "ipython"
   }
  },
  "kernelspec": {
   "name": "python388jvsc74a57bd0a19f06daf7e3d1bdc80ffb2b3e5a34426608f6f631798ba160ce5a710ffc6bf3",
   "display_name": "Python 3.8.8 64-bit ('2021.05': virtualenv)",
   "language": "python"
  },
  "interpreter": {
   "hash": "4e8db3332a8de1edb53b71e0788c59af4f9f1b97cfee9db6da7ade8df77225e3"
  }
 },
 "nbformat": 4,
 "nbformat_minor": 2
}