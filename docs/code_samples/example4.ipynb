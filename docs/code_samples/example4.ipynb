{
 "cells": [
  {
   "cell_type": "markdown",
   "source": [
    "# Code Sample\n",
    "Shown here is a Jupyter notebook sample of the example provided in this repository. This is meant to provide a demonstration of the expected behavior/output"
   ],
   "metadata": {}
  },
  {
   "cell_type": "code",
   "execution_count": null,
   "source": [
    "# miscellaneous imports and configs for running examples in docs\n",
    "from pathlib import Path\n",
    "import sys\n",
    "from jupyterthemes import get_themes\n",
    "import jupyterthemes as jt\n",
    "from jupyterthemes.stylefx import set_nb_theme\n",
    "set_nb_theme('chesterish')"
   ],
   "outputs": [],
   "metadata": {}
  },
  {
   "cell_type": "markdown",
   "source": [
    "### Mixing Decorated and Non-Decorated Fuctions: Generating a GIF by Plotting 3.6 Million Points using Datashader and Dask"
   ],
   "metadata": {}
  },
  {
   "cell_type": "code",
   "execution_count": null,
   "source": [],
   "outputs": [],
   "metadata": {}
  }
 ],
 "metadata": {
  "orig_nbformat": 4,
  "language_info": {
   "name": "python"
  }
 },
 "nbformat": 4,
 "nbformat_minor": 2
}