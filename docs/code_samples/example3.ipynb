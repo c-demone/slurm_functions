{
 "cells": [
  {
   "cell_type": "markdown",
   "source": [
    "# Code Sample\n",
    "Shown here is a Jupyter notebook sample of the example provided in this repository. This is meant to provide a demonstration of the expected behavior/output"
   ],
   "metadata": {}
  },
  {
   "cell_type": "code",
   "execution_count": null,
   "source": [
    "# miscellaneous imports and configs for running examples in docs\n",
    "from pathlib import Path\n",
    "import sys\n",
    "from jupyterthemes import get_themes\n",
    "import jupyterthemes as jt\n",
    "from jupyterthemes.stylefx import set_nb_theme\n",
    "set_nb_theme('chesterish')"
   ],
   "outputs": [],
   "metadata": {}
  },
  {
   "cell_type": "markdown",
   "source": [
    "### Map a Vector of Inputs to a Decorated Function\n",
    "📝 *Note that the show_progress option is not currently implemented for the `.map()` method or non-Dask-like functions*"
   ],
   "metadata": {}
  },
  {
   "cell_type": "code",
   "execution_count": null,
   "source": [
    "sys.path.append('../../')\n",
    "from pyslurm_decorators import slurm\n",
    "\n",
    "# decorate function to be submitted with job options\n",
    "@slurm(cores=1,\n",
    "    n_workers=3,\n",
    "    processes=1,\n",
    "    memory=\"1GB\",\n",
    "    shebang='#!/usr/bin/env bash',\n",
    "    queue=\"normal\",\n",
    "    walltime=\"00:30:00\",\n",
    "    local_directory='/tmp',\n",
    "    death_timeout=\"15s\",\n",
    "    log_directory=f\"{str(Path.home())}/dask-test\",\n",
    "    project=\"boc\")\n",
    "def calc_sum(x):\n",
    "    \"\"\"Calculate simple sum\"\"\"\n",
    "    return x + (2.5 * x)\n",
    "\n",
    "\n",
    "# generate a vector of values to map onto the decorated function\n",
    "xvals = [100 * n for n in (0.01, 10, 100)]\n",
    "\n",
    "# map the vector to the function and gather the results\n",
    "result = calc_sum.map(xvals).gather()\n",
    "print(result)"
   ],
   "outputs": [],
   "metadata": {}
  }
 ],
 "metadata": {
  "orig_nbformat": 4,
  "language_info": {
   "name": "python"
  }
 },
 "nbformat": 4,
 "nbformat_minor": 2
}