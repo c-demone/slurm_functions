{
 "cells": [
  {
   "cell_type": "markdown",
   "metadata": {},
   "source": [
    "# Monte-Carlo Estimate of $\\pi$\n",
    "\n",
    "We want to estimate the number $\\pi$ using a [Monte-Carlo method](https://en.wikipedia.org/wiki/Pi#Monte_Carlo_methods) exploiting that the area of a quarter circle of unit radius is $\\pi/4$ and that hence the probability of any randomly chosen point in a unit square to lie in a unit circle centerd at a corner of the unit square is $\\pi/4$ as well.  So for N randomly chosen pairs $(x, y)$ with $x\\in[0, 1)$ and $y\\in[0, 1)$, we count the number $N_{circ}$ of pairs that also satisfy $(x^2 + y^2) < 1$ and estimage $\\pi \\approx 4 \\cdot N_{circ} / N$.\n",
    "\n",
    "[<img src=\"https://upload.wikimedia.org/wikipedia/commons/8/84/Pi_30K.gif\" \n",
    "     width=\"50%\" \n",
    "     align=top\n",
    "     alt=\"PI monte-carlo estimate\">](https://en.wikipedia.org/wiki/Pi#Monte_Carlo_methods)"
   ]
  },
  {
   "cell_type": "markdown",
   "metadata": {},
   "source": [
    "## Core Lessons\n",
    "\n",
    "- setting up SLURM (and other jobqueue) clusters\n",
    "- Scaling clusters\n",
    "- Adaptive clusters"
   ]
  },
  {
   "cell_type": "markdown",
   "metadata": {},
   "source": [
    "## Setup for Example"
   ]
  },
  {
   "cell_type": "code",
   "execution_count": null,
   "metadata": {},
   "outputs": [],
   "source": [
    "from os.path import exists\n",
    "from pathlib import Path\n",
    "\n",
    "home = str(Path.home())\n",
    "dasklogs = f\"{home}/dask-demo-logs\"\n",
    "if not exists(dasklogs):\n",
    "    os.mkdir(dasklogs)"
   ]
  },
  {
   "cell_type": "markdown",
   "metadata": {},
   "source": [
    "## Set up a Slurm cluster\n",
    "\n",
    "We'll create a SLURM cluster and have a look at the job-script used to start workers on the HPC scheduler."
   ]
  },
  {
   "cell_type": "code",
   "execution_count": null,
   "metadata": {},
   "outputs": [
    {
     "name": "stderr",
     "output_type": "stream",
     "text": [
      "/home/mfa/dech/.local/lib/python3.8/site-packages/dask_jobqueue/core.py:19: FutureWarning: format_bytes is deprecated and will be removed in a future release. Please use dask.utils.format_bytes instead.\n",
      "  from distributed.utils import format_bytes, parse_bytes, tmpfile\n",
      "/home/mfa/dech/.local/lib/python3.8/site-packages/dask_jobqueue/core.py:19: FutureWarning: parse_bytes is deprecated and will be removed in a future release. Please use dask.utils.parse_bytes instead.\n",
      "  from distributed.utils import format_bytes, parse_bytes, tmpfile\n",
      "/home/mfa/dech/.local/lib/python3.8/site-packages/dask_jobqueue/htcondor.py:6: FutureWarning: parse_bytes is deprecated and will be removed in a future release. Please use dask.utils.parse_bytes instead.\n",
      "  from distributed.utils import parse_bytes\n"
     ]
    }
   ],
   "source": [
    "from dask.distributed import Client\n",
    "from dask_jobqueue import SLURMCluster\n",
    "import os\n",
    "\n",
    "cluster = SLURMCluster(\n",
    "    cores=24,\n",
    "    processes=2,\n",
    "    memory=\"100GB\",\n",
    "    shebang='#!/usr/bin/env bash',\n",
    "    queue=\"normal\",\n",
    "    walltime=\"00:30:00\",\n",
    "    local_directory='/tmp',\n",
    "    death_timeout=\"15s\",\n",
    "    interface=\"ib0\",\n",
    "    log_directory=dasklogs,\n",
    "    project=\"boc\")"
   ]
  },
  {
   "cell_type": "code",
   "execution_count": null,
   "metadata": {},
   "outputs": [
    {
     "name": "stdout",
     "output_type": "stream",
     "text": [
      "#!/usr/bin/env bash\n",
      "\n",
      "#SBATCH -J dask-worker\n",
      "#SBATCH -e /scratch/dech/2_2020-2021/4_general_dev/dask-demo/logs/dask-worker-%J.err\n",
      "#SBATCH -o /scratch/dech/2_2020-2021/4_general_dev/dask-demo/logs/dask-worker-%J.out\n",
      "#SBATCH -p batch\n",
      "#SBATCH -A boc\n",
      "#SBATCH -n 1\n",
      "#SBATCH --cpus-per-task=24\n",
      "#SBATCH --mem=94G\n",
      "#SBATCH -t 00:30:00\n",
      "\n",
      "/home/mfa/dech/.conda/envs/TFbuild/bin/python -m distributed.cli.dask_worker tcp://10.145.6.14:46190 --nthreads 12 --nprocs 2 --memory-limit 46.57GiB --name dummy-name --nanny --death-timeout 15s --local-directory /tmp --protocol tcp://\n",
      "\n"
     ]
    }
   ],
   "source": [
    "print(cluster.job_script())"
   ]
  },
  {
   "cell_type": "code",
   "execution_count": null,
   "metadata": {},
   "outputs": [
    {
     "data": {
      "text/html": [
       "\n",
       "            <div>\n",
       "                <div style=\"\n",
       "                    width: 24px;\n",
       "                    height: 24px;\n",
       "                    background-color: #e1e1e1;\n",
       "                    border: 3px solid #9D9D9D;\n",
       "                    border-radius: 5px;\n",
       "                    position: absolute;\"> </div>\n",
       "                <div style=\"margin-left: 48px;\">\n",
       "                    <h3 style=\"margin-bottom: 0px;\">Client</h3>\n",
       "                    <p style=\"color: #9D9D9D; margin-bottom: 0px;\">Client-a83470f3-fb8e-11eb-b71c-408d5cfe83f8</p>\n",
       "                    <table style=\"width: 100%; text-align: left;\">\n",
       "                    \n",
       "                <tr>\n",
       "                    <td style=\"text-align: left;\"><strong>Connection method:</strong> Cluster object</td>\n",
       "                    <td style=\"text-align: left;\"><strong>Cluster type:</strong> SLURMCluster</td>\n",
       "                </tr>\n",
       "                \n",
       "                <tr>\n",
       "                    <td style=\"text-align: left;\">\n",
       "                        <strong>Dashboard: </strong>\n",
       "                        <a href=\"http://10.145.6.14:8787/status\">http://10.145.6.14:8787/status</a>\n",
       "                    </td>\n",
       "                    <td style=\"text-align: left;\"></td>\n",
       "                </tr>\n",
       "                \n",
       "                    </table>\n",
       "                    \n",
       "                <details>\n",
       "                <summary style=\"margin-bottom: 20px;\"><h3 style=\"display: inline;\">Cluster Info</h3></summary>\n",
       "                \n",
       "            <div class=\"jp-RenderedHTMLCommon jp-RenderedHTML jp-mod-trusted jp-OutputArea-output\">\n",
       "                <div style=\"\n",
       "                    width: 24px;\n",
       "                    height: 24px;\n",
       "                    background-color: #e1e1e1;\n",
       "                    border: 3px solid #9D9D9D;\n",
       "                    border-radius: 5px;\n",
       "                    position: absolute;\"> </div>\n",
       "                <div style=\"margin-left: 48px;\">\n",
       "                    <h3 style=\"margin-bottom: 0px; margin-top: 0px;\">SLURMCluster</h3>\n",
       "                    <p style=\"color: #9D9D9D; margin-bottom: 0px;\">b6a81687</p>\n",
       "                    <table style=\"width: 100%; text-align: left;\">\n",
       "                    \n",
       "            <tr>\n",
       "                <td style=\"text-align: left;\">\n",
       "                    <strong>Dashboard:</strong> <a href=\"http://10.145.6.14:8787/status\">http://10.145.6.14:8787/status</a>\n",
       "                </td>\n",
       "                <td style=\"text-align: left;\"><strong>Workers:</strong> 0</td>\n",
       "            </tr>\n",
       "            <tr>\n",
       "                <td style=\"text-align: left;\">\n",
       "                    <strong>Total threads:</strong>\n",
       "                    0\n",
       "                </td>\n",
       "                <td style=\"text-align: left;\">\n",
       "                    <strong>Total memory:</strong>\n",
       "                    0 B\n",
       "                </td>\n",
       "            </tr>\n",
       "        \n",
       "                    </table>\n",
       "                    <details>\n",
       "                    <summary style=\"margin-bottom: 20px;\"><h3 style=\"display: inline;\">Scheduler Info</h3></summary>\n",
       "                    \n",
       "        <div style=\"\">\n",
       "            \n",
       "            <div>\n",
       "                <div style=\"\n",
       "                    width: 24px;\n",
       "                    height: 24px;\n",
       "                    background-color: #FFF7E5;\n",
       "                    border: 3px solid #FF6132;\n",
       "                    border-radius: 5px;\n",
       "                    position: absolute;\"> </div>\n",
       "                <div style=\"margin-left: 48px;\">\n",
       "                    <h3 style=\"margin-bottom: 0px;\">Scheduler</h3>\n",
       "                    <p style=\"color: #9D9D9D; margin-bottom: 0px;\">Scheduler-29c3b0d3-043c-4c6b-8b6c-6da7f8cb2906</p>\n",
       "                    <table style=\"width: 100%; text-align: left;\">\n",
       "                        <tr>\n",
       "                            <td style=\"text-align: left;\"><strong>Comm:</strong> tcp://10.145.6.14:46190</td>\n",
       "                            <td style=\"text-align: left;\"><strong>Workers:</strong> 0</td>\n",
       "                        </tr>\n",
       "                        <tr>\n",
       "                            <td style=\"text-align: left;\">\n",
       "                                <strong>Dashboard:</strong> <a href=\"http://10.145.6.14:8787/status\">http://10.145.6.14:8787/status</a>\n",
       "                            </td>\n",
       "                            <td style=\"text-align: left;\">\n",
       "                                <strong>Total threads:</strong>\n",
       "                                0\n",
       "                            </td>\n",
       "                        </tr>\n",
       "                        <tr>\n",
       "                            <td style=\"text-align: left;\">\n",
       "                                <strong>Started:</strong>\n",
       "                                Just now\n",
       "                            </td>\n",
       "                            <td style=\"text-align: left;\">\n",
       "                                <strong>Total memory:</strong>\n",
       "                                0 B\n",
       "                            </td>\n",
       "                        </tr>\n",
       "                    </table>\n",
       "                </div>\n",
       "            </div>\n",
       "        \n",
       "            <details style=\"margin-left: 48px;\">\n",
       "            <summary style=\"margin-bottom: 20px;\"><h3 style=\"display: inline;\">Workers</h3></summary>\n",
       "            \n",
       "            </details>\n",
       "        </div>\n",
       "        \n",
       "                    </details>\n",
       "                </div>\n",
       "            </div>\n",
       "        \n",
       "                </details>\n",
       "                \n",
       "                </div>\n",
       "            </div>\n",
       "        "
      ],
      "text/plain": [
       "<Client: 'tcp://10.145.6.14:46190' processes=0 threads=0, memory=0 B>"
      ]
     },
     "execution_count": 3,
     "metadata": {},
     "output_type": "execute_result"
    }
   ],
   "source": [
    "client = Client(cluster)\n",
    "client"
   ]
  },
  {
   "cell_type": "markdown",
   "metadata": {},
   "source": [
    "## Scale the cluster to two nodes\n",
    "\n",
    "A look at the Dashboard reveals that there are no workers in the clusetr.  Let's start 4 workers (in 2 SLURM jobs).\n",
    "\n",
    "For the distiction between _workers_ and _jobs_, see [the Dask jobqueue docs](https://jobqueue.dask.org/en/latest/howitworks.html#workers-vs-jobs)."
   ]
  },
  {
   "cell_type": "code",
   "execution_count": null,
   "metadata": {},
   "outputs": [],
   "source": [
    "cluster.scale(4)  # scale to 4 _workers_"
   ]
  },
  {
   "cell_type": "markdown",
   "metadata": {},
   "source": [
    "## The Monte Carlo Method"
   ]
  },
  {
   "cell_type": "code",
   "execution_count": null,
   "metadata": {},
   "outputs": [
    {
     "name": "stderr",
     "output_type": "stream",
     "text": [
      "Task exception was never retrieved\n",
      "future: <Task finished name='Task-35' coro=<_wrap_awaitable() done, defined at /home/mfa/dech/.conda/envs/TFbuild/lib/python3.8/asyncio/tasks.py:677> exception=RuntimeError('Command exited with non-zero exit code.\\nExit code: 1\\nCommand:\\nsbatch /tmp/tmp58qby4_i.sh\\nstdout:\\n\\nstderr:\\nsbatch: error: invalid partition specified: batch\\nsbatch: error: Batch job submission failed: Invalid partition name specified\\n\\n')>\n",
      "Traceback (most recent call last):\n",
      "  File \"/home/mfa/dech/.conda/envs/TFbuild/lib/python3.8/asyncio/tasks.py\", line 684, in _wrap_awaitable\n",
      "    return (yield from awaitable.__await__())\n",
      "  File \"/home/mfa/dech/.conda/envs/TFbuild/lib/python3.8/site-packages/distributed/deploy/spec.py\", line 66, in _\n",
      "    await self.start()\n",
      "  File \"/home/mfa/dech/.local/lib/python3.8/site-packages/dask_jobqueue/core.py\", line 324, in start\n",
      "    out = await self._submit_job(fn)\n",
      "  File \"/home/mfa/dech/.local/lib/python3.8/site-packages/dask_jobqueue/core.py\", line 307, in _submit_job\n",
      "    return self._call(shlex.split(self.submit_command) + [script_filename])\n",
      "  File \"/home/mfa/dech/.local/lib/python3.8/site-packages/dask_jobqueue/core.py\", line 402, in _call\n",
      "    raise RuntimeError(\n",
      "RuntimeError: Command exited with non-zero exit code.\n",
      "Exit code: 1\n",
      "Command:\n",
      "sbatch /tmp/tmp58qby4_i.sh\n",
      "stdout:\n",
      "\n",
      "stderr:\n",
      "sbatch: error: invalid partition specified: batch\n",
      "sbatch: error: Batch job submission failed: Invalid partition name specified\n",
      "\n",
      "\n",
      "Task exception was never retrieved\n",
      "future: <Task finished name='Task-34' coro=<_wrap_awaitable() done, defined at /home/mfa/dech/.conda/envs/TFbuild/lib/python3.8/asyncio/tasks.py:677> exception=RuntimeError('Command exited with non-zero exit code.\\nExit code: 1\\nCommand:\\nsbatch /tmp/tmp9th0zk8z.sh\\nstdout:\\n\\nstderr:\\nsbatch: error: invalid partition specified: batch\\nsbatch: error: Batch job submission failed: Invalid partition name specified\\n\\n')>\n",
      "Traceback (most recent call last):\n",
      "  File \"/home/mfa/dech/.conda/envs/TFbuild/lib/python3.8/asyncio/tasks.py\", line 684, in _wrap_awaitable\n",
      "    return (yield from awaitable.__await__())\n",
      "  File \"/home/mfa/dech/.conda/envs/TFbuild/lib/python3.8/site-packages/distributed/deploy/spec.py\", line 66, in _\n",
      "    await self.start()\n",
      "  File \"/home/mfa/dech/.local/lib/python3.8/site-packages/dask_jobqueue/core.py\", line 324, in start\n",
      "    out = await self._submit_job(fn)\n",
      "  File \"/home/mfa/dech/.local/lib/python3.8/site-packages/dask_jobqueue/core.py\", line 307, in _submit_job\n",
      "    return self._call(shlex.split(self.submit_command) + [script_filename])\n",
      "  File \"/home/mfa/dech/.local/lib/python3.8/site-packages/dask_jobqueue/core.py\", line 402, in _call\n",
      "    raise RuntimeError(\n",
      "RuntimeError: Command exited with non-zero exit code.\n",
      "Exit code: 1\n",
      "Command:\n",
      "sbatch /tmp/tmp9th0zk8z.sh\n",
      "stdout:\n",
      "\n",
      "stderr:\n",
      "sbatch: error: invalid partition specified: batch\n",
      "sbatch: error: Batch job submission failed: Invalid partition name specified\n",
      "\n",
      "\n",
      "tornado.application - ERROR - Exception in callback functools.partial(<bound method IOLoop._discard_future_result of <zmq.eventloop.ioloop.ZMQIOLoop object at 0x7f9ab0fbaca0>>, <Task finished name='Task-33' coro=<SpecCluster._correct_state_internal() done, defined at /home/mfa/dech/.conda/envs/TFbuild/lib/python3.8/site-packages/distributed/deploy/spec.py:327> exception=RuntimeError('Command exited with non-zero exit code.\\nExit code: 1\\nCommand:\\nsbatch /tmp/tmpvy2y8t8t.sh\\nstdout:\\n\\nstderr:\\nsbatch: error: invalid partition specified: batch\\nsbatch: error: Batch job submission failed: Invalid partition name specified\\n\\n')>)\n",
      "Traceback (most recent call last):\n",
      "  File \"/home/mfa/dech/.conda/envs/TFbuild/lib/python3.8/site-packages/tornado/ioloop.py\", line 741, in _run_callback\n",
      "    ret = callback()\n",
      "  File \"/home/mfa/dech/.conda/envs/TFbuild/lib/python3.8/site-packages/tornado/ioloop.py\", line 765, in _discard_future_result\n",
      "    future.result()\n",
      "  File \"/home/mfa/dech/.conda/envs/TFbuild/lib/python3.8/site-packages/distributed/deploy/spec.py\", line 365, in _correct_state_internal\n",
      "    await w  # for tornado gen.coroutine support\n",
      "  File \"/home/mfa/dech/.conda/envs/TFbuild/lib/python3.8/site-packages/distributed/deploy/spec.py\", line 66, in _\n",
      "    await self.start()\n",
      "  File \"/home/mfa/dech/.local/lib/python3.8/site-packages/dask_jobqueue/core.py\", line 324, in start\n",
      "    out = await self._submit_job(fn)\n",
      "  File \"/home/mfa/dech/.local/lib/python3.8/site-packages/dask_jobqueue/core.py\", line 307, in _submit_job\n",
      "    return self._call(shlex.split(self.submit_command) + [script_filename])\n",
      "  File \"/home/mfa/dech/.local/lib/python3.8/site-packages/dask_jobqueue/core.py\", line 402, in _call\n",
      "    raise RuntimeError(\n",
      "RuntimeError: Command exited with non-zero exit code.\n",
      "Exit code: 1\n",
      "Command:\n",
      "sbatch /tmp/tmpvy2y8t8t.sh\n",
      "stdout:\n",
      "\n",
      "stderr:\n",
      "sbatch: error: invalid partition specified: batch\n",
      "sbatch: error: Batch job submission failed: Invalid partition name specified\n",
      "\n",
      "\n"
     ]
    }
   ],
   "source": [
    "import dask.array as da\n",
    "import numpy as np\n",
    "\n",
    "def calc_pi_mc(size_in_bytes, chunksize_in_bytes=200e6):\n",
    "    \"\"\"Calculate PI using a Monte Carlo estimate.\"\"\"\n",
    "    \n",
    "    size = int(size_in_bytes / 8)\n",
    "    chunksize = int(chunksize_in_bytes / 8)\n",
    "    \n",
    "    xy = da.random.uniform(0, 1,\n",
    "                           size=(size / 2, 2),\n",
    "                           chunks=(chunksize / 2, 2))\n",
    "    \n",
    "    in_circle = ((xy ** 2).sum(axis=-1) < 1)\n",
    "    pi = 4 * in_circle.mean()\n",
    "\n",
    "    return pi\n",
    "\n",
    "def print_pi_stats(size, pi, time_delta, num_workers):\n",
    "    \"\"\"Print pi, calculate offset from true value, and print some stats.\"\"\"\n",
    "    print(f\"{size / 1e9} GB\\n\"\n",
    "          f\"\\tMC pi: {pi : 13.11f}\"\n",
    "          f\"\\tErr: {abs(pi - np.pi) : 10.3e}\\n\"\n",
    "          f\"\\tWorkers: {num_workers}\"\n",
    "          f\"\\t\\tTime: {time_delta : 7.3f}s\")"
   ]
  },
  {
   "cell_type": "markdown",
   "metadata": {},
   "source": [
    "## The actual calculations\n",
    "\n",
    "We loop over different volumes of double-precision random numbers and estimate $\\pi$ as described above."
   ]
  },
  {
   "cell_type": "code",
   "execution_count": null,
   "metadata": {},
   "outputs": [],
   "source": [
    "from time import time, sleep"
   ]
  },
  {
   "cell_type": "code",
   "execution_count": 7,
   "metadata": {},
   "outputs": [],
   "source": [
    "for size in (1e9 * n for n in (1, 10, 100)):\n",
    "    \n",
    "    start = time()\n",
    "    pi = calc_pi_mc(size).compute()\n",
    "    elaps = time() - start\n",
    "\n",
    "    print_pi_stats(size, pi, time_delta=elaps,\n",
    "                   num_workers=len(cluster.scheduler.workers))"
   ]
  },
  {
   "cell_type": "markdown",
   "metadata": {},
   "source": [
    "## Scaling the Cluster to twice its size\n",
    "\n",
    "We increase the number of workers by 2 and the re-run the experiments."
   ]
  },
  {
   "cell_type": "code",
   "execution_count": null,
   "metadata": {},
   "outputs": [],
   "source": [
    "new_num_workers = 2 * len(cluster.scheduler.workers)\n",
    "\n",
    "print(f\"Scaling from {len(cluster.scheduler.workers)} to {new_num_workers} workers.\")\n",
    "\n",
    "cluster.scale(new_num_workers)\n",
    "\n",
    "sleep(10)"
   ]
  },
  {
   "cell_type": "code",
   "execution_count": null,
   "metadata": {},
   "outputs": [],
   "source": [
    "client"
   ]
  },
  {
   "cell_type": "markdown",
   "metadata": {},
   "source": [
    "## Re-run same experiments with doubled cluster"
   ]
  },
  {
   "cell_type": "code",
   "execution_count": null,
   "metadata": {},
   "outputs": [],
   "source": [
    "for size in (1e9 * n for n in (1, 10, 100)):\n",
    "    \n",
    "        \n",
    "    start = time()\n",
    "    pi = calc_pi_mc(size).compute()\n",
    "    elaps = time() - start\n",
    "\n",
    "    print_pi_stats(size, pi,\n",
    "                   time_delta=elaps,\n",
    "                   num_workers=len(cluster.scheduler.workers))"
   ]
  },
  {
   "cell_type": "markdown",
   "metadata": {},
   "source": [
    "## Automatically Scaling the Cluster\n",
    "\n",
    "We want each calculation to take only a few seconds.  Dask will try to add more workers to the cluster when workloads are high and remove workers when idling.\n",
    "\n",
    "_**Watch** how the cluster will scale down to the minimum a few seconds after being made adaptive._"
   ]
  },
  {
   "cell_type": "code",
   "execution_count": null,
   "metadata": {},
   "outputs": [],
   "source": [
    "ca = cluster.adapt(\n",
    "    minimum=4, maximum=100);\n",
    "\n",
    "sleep(4)  # Allow for scale-down"
   ]
  },
  {
   "cell_type": "code",
   "execution_count": null,
   "metadata": {},
   "outputs": [],
   "source": [
    "client"
   ]
  },
  {
   "cell_type": "markdown",
   "metadata": {},
   "source": [
    "## Repeat the calculation from above with larger work loads\n",
    "\n",
    "(And watch the dash board!)"
   ]
  },
  {
   "cell_type": "code",
   "execution_count": null,
   "metadata": {},
   "outputs": [],
   "source": [
    "for size in (n * 1e9 for n in (1, 10, 100, 1000)):\n",
    "    \n",
    "    \n",
    "    start = time()\n",
    "    pi = calc_pi_mc(size, min(size / 1000, 500e6)).compute()\n",
    "    elaps = time() - start\n",
    "\n",
    "    print_pi_stats(size, pi, time_delta=elaps,\n",
    "                   num_workers=len(cluster.scheduler.workers))\n",
    "    \n",
    "    sleep(20)  # allow for scale-down time"
   ]
  },
  {
   "cell_type": "markdown",
   "metadata": {},
   "source": [
    "## Complete listing of software used here"
   ]
  },
  {
   "cell_type": "code",
   "execution_count": null,
   "metadata": {},
   "outputs": [],
   "source": [
    "%pip list"
   ]
  },
  {
   "cell_type": "code",
   "execution_count": null,
   "metadata": {},
   "outputs": [],
   "source": [
    "%conda list --explicit"
   ]
  }
 ],
 "metadata": {
  "anaconda-cloud": {},
  "interpreter": {
   "hash": "4e8db3332a8de1edb53b71e0788c59af4f9f1b97cfee9db6da7ade8df77225e3"
  },
  "kernelspec": {
   "display_name": "Python 3",
   "language": "python",
   "name": "python3"
  },
  "language_info": {
   "codemirror_mode": {
    "name": "ipython",
    "version": 3
   },
   "file_extension": ".py",
   "mimetype": "text/x-python",
   "name": "python",
   "nbconvert_exporter": "python",
   "pygments_lexer": "ipython3",
   "version": "3.8.8"
  }
 },
 "nbformat": 4,
 "nbformat_minor": 2
}
